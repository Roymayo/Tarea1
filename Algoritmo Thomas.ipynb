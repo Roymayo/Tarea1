{
 "cells": [
  {
   "cell_type": "code",
   "execution_count": null,
   "metadata": {},
   "outputs": [],
   "source": [
    "import numpy as np\n",
    "from numpy import linalg as LA\n",
    "from scipy.linalg import lu"
   ]
  },
  {
   "cell_type": "code",
   "execution_count": 342,
   "metadata": {},
   "outputs": [],
   "source": [
    "def ThomasAdelante(DP,DS,DI,b):\n",
    "  \"\"\"\n",
    "    Resuelve un sistema tridiagonal de ecuaciones lineales Ax = b utilizando el algoritmo de Thomas\n",
    "    con sustitución hacia adelante.\n",
    "\n",
    "    Parámetros:\n",
    "    -----------\n",
    "    DP : array-like\n",
    "        Vector de la diagonal principal de la matriz tridiagonal A. Tamaño n.\n",
    "    DS : array-like\n",
    "        Vector de la diagonal superior de la matriz tridiagonal A. Tamaño n-1.\n",
    "    DI : array-like\n",
    "        Vector de la diagonal inferior de la matriz tridiagonal A. Tamaño n-1.\n",
    "    b : array-like\n",
    "        Vector de términos independientes del sistema Ax = b. Tamaño n.\n",
    "\n",
    "    Retorna:\n",
    "    --------\n",
    "    x : numpy array\n",
    "        Vector solución del sistema Ax = b. Tamaño n.\n",
    "    \"\"\"\n",
    "  # Tamaño de la matriz\n",
    "  n = len(DP)\n",
    "  # Se crea vector respecto al tamaño de la matriz\n",
    "  x = np.zeros(n)\n",
    "  \n",
    "  for i in range(1, n):\n",
    "      DP[i] = DP[i]-(DS[i-1]/DP[i-1])*DI[i-1]\n",
    "  # Se calcula el primer elemento \n",
    "  x[0] = b[0]/DP[0]\n",
    "  # Calculo de los elementos restantes\n",
    "  for i in range(1, n):\n",
    "      x[i] = (b[i]-DI[i-1]*x[i-1])/DP[i]\n",
    "  return x\n",
    "\n"
   ]
  },
  {
   "cell_type": "code",
   "execution_count": 341,
   "metadata": {},
   "outputs": [
    {
     "name": "stdout",
     "output_type": "stream",
     "text": [
      "[[ 2. -1.  0.  0.  0.]\n",
      " [-1.  2. -1.  0.  0.]\n",
      " [ 0. -1.  2. -1.  0.]\n",
      " [ 0.  0. -1.  2. -1.]\n",
      " [ 0.  0.  0. -1.  2.]]\n"
     ]
    }
   ],
   "source": [
    "# Ejemplo de sustitucion hacia adelante\n",
    "# Tamaño de la matriz\n",
    "n = 5\n",
    "# Crear la diagonal principal\n",
    "DP=2*np.ones(n)\n",
    "diagonal_principal = np.diag(DP)\n",
    "\n",
    "# Crear la diagonal superior\n",
    "DS=-np.ones(n-1)\n",
    "diagonal_superior = np.diag(DS, k=1)\n",
    "\n",
    "# Crear la diagonal inferior\n",
    "DI=-np.ones(n-1)\n",
    "diagonal_inferior = np.diag(DI, k=-1)\n",
    "\n",
    "# Sumar las tres diagonales para obtener la matriz tribanda\n",
    "matriz_tribanda = diagonal_principal + diagonal_superior + diagonal_inferior\n",
    "print(matriz_tribanda)\n",
    "\n",
    "# Vector resultado\n",
    "b=np.ones(n)"
   ]
  },
  {
   "cell_type": "code",
   "execution_count": 343,
   "metadata": {},
   "outputs": [
    {
     "data": {
      "text/plain": [
       "array([0.5, 1. , 1.5, 2. , 2.5])"
      ]
     },
     "execution_count": 343,
     "metadata": {},
     "output_type": "execute_result"
    }
   ],
   "source": [
    "ThomasAdelante(DP, DS, DI, b)\n"
   ]
  },
  {
   "cell_type": "code",
   "execution_count": 344,
   "metadata": {},
   "outputs": [
    {
     "data": {
      "text/plain": [
       "array([1. , 1.5, 2. , 2.5, 3. ])"
      ]
     },
     "execution_count": 344,
     "metadata": {},
     "output_type": "execute_result"
    }
   ],
   "source": [
    "# Solucion con Python\n",
    "P, L, U = lu(matriz_tribanda)\n",
    "LA.solve(L, b)"
   ]
  }
 ],
 "metadata": {
  "kernelspec": {
   "display_name": "base",
   "language": "python",
   "name": "python3"
  },
  "language_info": {
   "codemirror_mode": {
    "name": "ipython",
    "version": 3
   },
   "file_extension": ".py",
   "mimetype": "text/x-python",
   "name": "python",
   "nbconvert_exporter": "python",
   "pygments_lexer": "ipython3",
   "version": "3.8.5"
  }
 },
 "nbformat": 4,
 "nbformat_minor": 2
}
