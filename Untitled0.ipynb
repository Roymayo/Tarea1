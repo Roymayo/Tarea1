{
  "cells": [
    {
      "cell_type": "markdown",
      "metadata": {
        "id": "1ZmMnGU8-sW_"
      },
      "source": [
        "Ejercicio 1.10"
      ]
    },
    {
      "cell_type": "code",
      "execution_count": null,
      "metadata": {
        "colab": {
          "background_save": true,
          "base_uri": "https://localhost:8080/"
        },
        "id": "qdvRwKBPMDBJ",
        "outputId": "940cf698-fd8f-43c4-f555-4fa8b80a156a"
      },
      "outputs": [
        {
          "name": "stdout",
          "output_type": "stream",
          "text": [
            "Cálculo de la norma infinito de una matriz\n"
          ]
        }
      ],
      "source": [
        "import sympy as sp\n",
        "\n",
        "def norma_infinito(A):\n",
        "    \"\"\"\n",
        "    Determina la norma infinito de una matriz.\n",
        "    \"\"\"\n",
        "    return max(sum(abs(A[i, j]) for j in range(A.shape[1])) for i in range(A.shape[0])).simplify()\n",
        "\n",
        "def solicitar_matriz():\n",
        "    \"\"\"\n",
        "    Solicita al usuario ingresar una matriz de tamaño definido por él mismo.\n",
        "    \"\"\"\n",
        "    while True:\n",
        "        try:\n",
        "            filas = int(input(\"Número de filas: \"))\n",
        "            columnas = int(input(\"Número de columnas: \"))\n",
        "\n",
        "            if filas <= 0 or columnas <= 0:\n",
        "                print(\"Las dimensiones deben ser mayores a cero. Inténtalo nuevamente.\")\n",
        "                continue\n",
        "\n",
        "            matriz = []\n",
        "            print(f\"Ingrese los elementos de la matriz fila por fila (separados por espacios):\")\n",
        "            for i in range(filas):\n",
        "                while True:\n",
        "                    valores = input(f\"Fila {i+1}: \").split()\n",
        "                    if len(valores) != columnas:\n",
        "                        print(f\"La fila debe tener exactamente {columnas} valores. Inténtalo de nuevo.\")\n",
        "                    else:\n",
        "                        break\n",
        "                matriz.append([sp.sympify(valor) for valor in valores])\n",
        "\n",
        "            return sp.Matrix(matriz)\n",
        "\n",
        "        except ValueError:\n",
        "            print(\"Entrada no válida. Asegúrate de ingresar números enteros para las dimensiones.\")\n",
        "\n",
        "if __name__ == \"__main__\":\n",
        "    print(\"Cálculo de la norma infinito de una matriz\")\n",
        "    matriz = solicitar_matriz()\n",
        "    resultado = norma_infinito(matriz)\n",
        "    print(f\"\\nLa norma infinito de la matriz es: {resultado}\")"
      ]
    },
    {
      "cell_type": "markdown",
      "metadata": {
        "id": "K8dAr7qO-n8J"
      },
      "source": [
        "Ejercicio numero 1.11"
      ]
    },
    {
      "cell_type": "code",
      "execution_count": null,
      "metadata": {
        "id": "DVHdu-Df9jAP"
      },
      "outputs": [],
      "source": [
        "import sympy as sp\n",
        "\n",
        "def calcular_norma_2(matriz):\n",
        "    \"\"\"\n",
        "    Calcula la norma de Frobenius de una matriz.\n",
        "    La norma de Frobenius es la raíz cuadrada de la suma de los cuadrados de todos los elementos de la matriz.\n",
        "    \"\"\"\n",
        "    suma_de_cuadrados = 0\n",
        "    for fila in matriz:\n",
        "        for elemento in fila:\n",
        "            suma_de_cuadrados += elemento ** 2\n",
        "\n",
        "    return sp.sqrt(suma_de_cuadrados).simplify()\n",
        "\n",
        "def ejecutar_programa():\n",
        "    \"\"\"Maneja la entrada del usuario y ejecuta el cálculo de la norma de Frobenius.\"\"\"\n",
        "    m = int(input(\"Introduce el número de filas de la matriz: \"))\n",
        "    n = int(input(\"Introduce el número de columnas de la matriz: \"))\n",
        "\n",
        "    print(\"Introduce los elementos de la matriz fila por fila, separados por espacios:\")\n",
        "    matriz = []\n",
        "    for _ in range(m):\n",
        "        fila = [sp.sympify(x) for x in input().split()]\n",
        "        matriz.append(fila)\n",
        "\n",
        "    resultado = calcular_norma_2(matriz)\n",
        "    print(\"La norma de Frobenius de la matriz es:\", resultado)\n",
        "\n",
        "# Llamada a la función principal\n",
        "if __name__ == \"__main__\":\n",
        "    ejecutar_programa()\n",
        "\n"
      ]
    },
    {
      "cell_type": "markdown",
      "metadata": {
        "id": "UQDHPDfD__mA"
      },
      "source": [
        "Ejercicio 2.3"
      ]
    },
    {
      "cell_type": "code",
      "execution_count": null,
      "metadata": {
        "id": "p315CaGG_9WN"
      },
      "outputs": [],
      "source": [
        "def resolver_sistema_dos_bandas(A, b, tipo_band='inferior'):\n",
        "\n",
        "    n = len(b)\n",
        "    c_ = [0] * (n - 1)\n",
        "    d_ = [0] * n\n",
        "\n",
        "    if tipo_band == 'inferior':\n",
        "\n",
        "        d_[0] = A[0][0]\n",
        "        for i in range(1, n):\n",
        "            c_[i - 1] = A[i][i - 1] / d_[i - 1]\n",
        "            d_[i] = A[i][i] - A[i][i - 1] * c_[i - 1]\n",
        "            b[i] -= A[i][i - 1] * b[i - 1] / d_[i - 1]\n",
        "\n",
        "    elif tipo_band == 'superior':\n",
        "\n",
        "        d_[-1] = A[-1][-1]\n",
        "        for i in range(n - 2, -1, -1):\n",
        "            c_[i] = A[i][i + 1] / d_[i + 1]\n",
        "            d_[i] = A[i][i] - A[i][i + 1] * c_[i]\n",
        "            b[i] -= A[i][i + 1] * b[i + 1] / d_[i + 1]\n",
        "\n",
        "    else:\n",
        "        raise ValueError(\"El tipo de banda debe ser 'inferior' o 'superior'.\")\n",
        "\n",
        "\n",
        "    x = [0] * n\n",
        "    if tipo_band == 'inferior':\n",
        "        x[-1] = b[-1] / d_[-1]\n",
        "        for i in range(n - 2, -1, -1):\n",
        "            x[i] = (b[i] - A[i][i + 1] * x[i + 1]) / d_[i]\n",
        "    elif tipo_band == 'superior':\n",
        "        x[0] = b[0] / d_[0]\n",
        "        for i in range(1, n):\n",
        "            x[i] = (b[i] - A[i][i - 1] * x[i - 1]) / d_[i]\n",
        "\n",
        "    return x\n",
        "\n",
        "def solicitar_matriz():\n",
        "\n",
        "    while True:\n",
        "        try:\n",
        "            n = int(input(\"Ingrese el tamaño de la matriz (n x n): \"))\n",
        "\n",
        "            if n <= 0:\n",
        "                print(\"El tamaño de la matriz debe ser mayor a cero. Inténtalo nuevamente.\")\n",
        "                continue\n",
        "\n",
        "            print(\"\\nIngrese la matriz de coeficientes fila por fila (separando valores con espacios):\")\n",
        "            A = []\n",
        "            for i in range(n):\n",
        "                while True:\n",
        "                    valores = input(f\"Fila {i+1}: \").split()\n",
        "                    if len(valores) != n:\n",
        "                        print(f\"La fila debe tener exactamente {n} valores. Inténtalo de nuevo.\")\n",
        "                    else:\n",
        "                        break\n",
        "                A.append([float(v) for v in valores])\n",
        "\n",
        "            print(\"\\nIngrese el vector de términos independientes (separado por espacios):\")\n",
        "            while True:\n",
        "                valores = input().split()\n",
        "                if len(valores) != n:\n",
        "                    print(f\"El vector debe tener exactamente {n} valores. Inténtalo de nuevo.\")\n",
        "                else:\n",
        "                    b = [float(v) for v in valores]\n",
        "                    break\n",
        "\n",
        "            tipo_band = input(\"¿La matriz tiene la banda inferior o superior? (inferior/superior): \").lower()\n",
        "            if tipo_band not in ['inferior', 'superior']:\n",
        "                print(\"Opción no válida para tipo de banda. Usando 'inferior' por defecto.\")\n",
        "                tipo_band = 'inferior'\n",
        "\n",
        "            return A, b, tipo_band\n",
        "\n",
        "        except ValueError:\n",
        "            print(\"Entrada no válida. Asegúrate de ingresar números correctamente.\")\n",
        "\n",
        "if __name__ == \"__main__\":\n",
        "    print(\"Solución de un sistema de ecuaciones de dos bandas\")\n",
        "    A, b, tipo_band = solicitar_matriz()\n",
        "    solucion = resolver_sistema_dos_bandas(A, b, tipo_band)\n",
        "    print(\"\\nLa solución del sistema es:\", solucion)\n"
      ]
    }
  ],
  "metadata": {
    "colab": {
      "provenance": []
    },
    "kernelspec": {
      "display_name": "Python 3",
      "name": "python3"
    },
    "language_info": {
      "name": "python"
    }
  },
  "nbformat": 4,
  "nbformat_minor": 0
}