{
  "nbformat": 4,
  "nbformat_minor": 0,
  "metadata": {
    "colab": {
      "provenance": []
    },
    "kernelspec": {
      "name": "python3",
      "display_name": "Python 3"
    },
    "language_info": {
      "name": "python"
    }
  },
  "cells": [
    {
      "cell_type": "code",
      "source": [
        "import numpy as np\n",
        "\n",
        "def rotar_matriz(eje, theta):\n",
        "\n",
        "    c, s = np.cos(theta), np.sin(theta)\n",
        "\n",
        "    if eje == 'x':\n",
        "        return np.array([[1, 0, 0],\n",
        "                         [0, c, -s],\n",
        "                         [0, s, c]])\n",
        "    elif eje == 'y':\n",
        "        return np.array([[c, 0, s],\n",
        "                         [0, 1, 0],\n",
        "                         [-s, 0, c]])\n",
        "    elif eje == 'z':\n",
        "        return np.array([[c, -s, 0],\n",
        "                         [s, c, 0],\n",
        "                         [0, 0, 1]])\n",
        "    else:\n",
        "        raise ValueError(\"El eje debe ser 'x', 'y' o 'z'\")\n",
        "\n",
        "def rotar_vector(vector, eje, theta):\n",
        "\n",
        "    R = rotar_matriz(eje, theta)\n",
        "    return np.dot(R, vector)\n",
        "\n",
        "# Ejemplo\n",
        "vector = np.array([1, 0, 1])  # Vector original\n",
        "eje = 'z'  # Eje de rotación\n",
        "angulo = np.pi / 4  # Ángulo en radianes\n",
        "\n",
        "vector_rotado = rotar_vector(vector, eje, angulo)\n",
        "print(\"Vector original:\", vector)\n",
        "print(\"Vector rotado:\", vector_rotado[0], vector_rotado[1], vector_rotado[2])\n"
      ],
      "metadata": {
        "colab": {
          "base_uri": "https://localhost:8080/"
        },
        "id": "m3OzUAB9v-re",
        "outputId": "f1d97ae4-16e5-4dbd-cf2d-65d42878194f"
      },
      "execution_count": 12,
      "outputs": [
        {
          "output_type": "stream",
          "name": "stdout",
          "text": [
            "Vector original: [1 0 1]\n",
            "Vector rotado: 0.7071067811865476 0.7071067811865475 1.0\n"
          ]
        }
      ]
    }
  ]
}