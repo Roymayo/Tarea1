{
 "cells": [
  {
   "cell_type": "code",
   "execution_count": null,
   "metadata": {},
   "outputs": [],
   "source": [
    "import numpy as np\n",
    "\n",
    "def ProductoCruz(Vec1, Vec2):\n",
    "    \"\"\"\n",
    "    Calcula el producto cruz (o producto vectorial) entre dos vectores tridimensionales.\n",
    "    \n",
    "    Parámetros:\n",
    "    -----------\n",
    "    Vec1 : list of float or int\n",
    "        Primer vector tridimensional, representado como una lista de tres elementos [a1, a2, a3].\n",
    "    Vec2 : list of float or int\n",
    "        Segundo vector tridimensional, representado como una lista de tres elementos [b1, b2, b3].\n",
    "\n",
    "    Retorna:\n",
    "    --------\n",
    "    list of float or int\n",
    "        Vector resultante del producto cruz, representado como una lista de tres elementos [c1, c2, c3].\n",
    "\n",
    "    Ejemplos:\n",
    "    --------\n",
    "    >>> Vec1 = [1, 2, 3]\n",
    "    >>> Vec2 = [4, 5, 6]\n",
    "    >>> ProductoCruz(Vec1, Vec2)\n",
    "    [-3, 6, -3]\n",
    "\n",
    "    >>> Vec1 = [0, 1, 0]\n",
    "    >>> Vec2 = [1, 0, 0]\n",
    "    >>> ProductoCruz(Vec1, Vec2)\n",
    "    [0, 0, -1]\n",
    "    \"\"\"\n",
    "    # Se verifica que los vectores sean tridimensionales\n",
    "    if len(Vec1) == len(Vec2) == 3:\n",
    "        # Calculamos cada entrada del vector: x, y y z \n",
    "        c1 = Vec1[1] * Vec2[2] - Vec1[2] * Vec2[1]  \n",
    "        c2 = Vec1[2] * Vec2[0] - Vec1[0] * Vec2[2]\n",
    "        c3 = Vec1[0] * Vec2[1] - Vec1[1] * Vec2[0]\n",
    "        VecR = [c1, c2, c3]\n",
    "    else:\n",
    "        return \"Esta función sólo realiza el producto cruz de vectores tridimensionales\" \n",
    "    return VecR\n",
    "\n"
   ]
  },
  {
   "cell_type": "code",
   "execution_count": 11,
   "metadata": {},
   "outputs": [
    {
     "name": "stdout",
     "output_type": "stream",
     "text": [
      "[1356, 1477, -2425]\n",
      "[ 1356  1477 -2425]\n"
     ]
    }
   ],
   "source": [
    "# Ejemplo de producto cruz de vectores tridemencionales\n",
    "# Creamos vectores tridimensionales \n",
    "a = [10, 45, 33]\n",
    "b = [59, 23, 47]\n",
    "\n",
    "# Realizamos producto cruz de los vectores\n",
    "Res = ProductoCruz(a, b)\n",
    "print(Res)\n",
    "\n",
    "# Con Python\n",
    "ResP = np.cross(a, b)\n",
    "print(ResP)"
   ]
  }
 ],
 "metadata": {
  "kernelspec": {
   "display_name": "base",
   "language": "python",
   "name": "python3"
  },
  "language_info": {
   "codemirror_mode": {
    "name": "ipython",
    "version": 3
   },
   "file_extension": ".py",
   "mimetype": "text/x-python",
   "name": "python",
   "nbconvert_exporter": "python",
   "pygments_lexer": "ipython3",
   "version": "3.8.5"
  }
 },
 "nbformat": 4,
 "nbformat_minor": 2
}
