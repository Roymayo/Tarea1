{
  "nbformat": 4,
  "nbformat_minor": 0,
  "metadata": {
    "colab": {
      "provenance": []
    },
    "kernelspec": {
      "name": "python3",
      "display_name": "Python 3"
    },
    "language_info": {
      "name": "python"
    }
  },
  "cells": [
    {
      "cell_type": "code",
      "source": [
        "import numpy as np\n",
        "\n",
        "def norma_1(A):\n",
        "    return np.max(np.sum(np.abs(A), axis=0))\n",
        "\n",
        "# Ejemplo\n",
        "A = np.array([[9, -6, 7],\n",
        "              [-8, 7, -2],\n",
        "              [7, -4, 1]])\n",
        "\n",
        "norma = norma_1(A)\n",
        "print(\"Matriz A:\")\n",
        "print(A)\n",
        "print(\"Norma 1 de A:\", norma)\n"
      ],
      "metadata": {
        "colab": {
          "base_uri": "https://localhost:8080/"
        },
        "id": "rwThWMR40KzV",
        "outputId": "3f0daaa7-6190-4da6-807f-68cf55896a17"
      },
      "execution_count": 33,
      "outputs": [
        {
          "output_type": "stream",
          "name": "stdout",
          "text": [
            "Matriz A:\n",
            "[[ 9 -6  7]\n",
            " [-8  7 -2]\n",
            " [ 7 -4  1]]\n",
            "Norma 1 de A: 24\n"
          ]
        }
      ]
    }
  ]
}