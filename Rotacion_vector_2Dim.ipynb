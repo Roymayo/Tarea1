{
  "nbformat": 4,
  "nbformat_minor": 0,
  "metadata": {
    "colab": {
      "provenance": []
    },
    "kernelspec": {
      "name": "python3",
      "display_name": "Python 3"
    },
    "language_info": {
      "name": "python"
    }
  },
  "cells": [
    {
      "cell_type": "code",
      "execution_count": 11,
      "metadata": {
        "colab": {
          "base_uri": "https://localhost:8080/"
        },
        "id": "5ia8Hy1dsFRy",
        "outputId": "97e11a63-573c-4b18-d228-cda10dfab2db"
      },
      "outputs": [
        {
          "output_type": "stream",
          "name": "stdout",
          "text": [
            "Vector original: [1 1]\n",
            "Vector rotado (90 grados): [-1.  1.]\n"
          ]
        }
      ],
      "source": [
        "import numpy as np\n",
        "\n",
        "def rotar_vector(vector, angulo):\n",
        "    angulo_radianes = np.radians(angulo)\n",
        "    matriz_rotada = np.array([\n",
        "        [np.cos(angulo_radianes), -np.sin(angulo_radianes)],\n",
        "        [np.sin(angulo_radianes), np.cos(angulo_radianes)]\n",
        "    ])\n",
        "    vector_rotado = np.dot(matriz_rotada, vector)\n",
        "    return vector_rotado\n",
        "\n",
        "# Ejemplo\n",
        "vector = np.array([1, 1])  # Vector original\n",
        "angle = 90  # Ángulo en grados\n",
        "vector_rotado = rotar_vector(vector, angle)\n",
        "print(f\"Vector original: {vector}\")\n",
        "print(f\"Vector rotado ({angle} grados): {vector_rotado}\")"
      ]
    }
  ]
}